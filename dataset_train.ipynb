{
 "cells": [
  {
   "cell_type": "code",
   "execution_count": 1,
   "metadata": {},
   "outputs": [
    {
     "data": {
      "text/plain": [
       "'\\nconda clean -tipsy; conda remove ipykernel ipython jupyter_client jupyter_core traitlets ipython_genutils pandas beautifulsoup4; /Users/maksimabramov/opt/miniconda3/bin/python -m pip install ipykernel==4.2.2; /Users/maksimabramov/opt/miniconda3/bin/python -m pip install ipython[all]; conda install ipython jupyter_client jupyter_core traitlets ipython_genutils pandas beautifulsoup4\\n\\n!pip install --force-reinstall --no-deps mistune==0.8.4\\n'"
      ]
     },
     "execution_count": 1,
     "metadata": {},
     "output_type": "execute_result"
    }
   ],
   "source": [
    "import sys\n",
    "'''\n",
    "conda clean -tipsy; conda remove ipykernel ipython jupyter_client jupyter_core traitlets ipython_genutils pandas beautifulsoup4; /Users/maksimabramov/opt/miniconda3/bin/python -m pip install ipykernel==4.2.2; /Users/maksimabramov/opt/miniconda3/bin/python -m pip install ipython[all]; conda install ipython jupyter_client jupyter_core traitlets ipython_genutils pandas beautifulsoup4\n",
    "\n",
    "!pip install --force-reinstall --no-deps mistune==0.8.4\n",
    "'''"
   ]
  },
  {
   "cell_type": "code",
   "execution_count": 2,
   "metadata": {},
   "outputs": [],
   "source": [
    "import pandas\n",
    "# import advertools\n",
    "from sklearn.feature_extraction.text import CountVectorizer\n",
    "from sklearn.naive_bayes import GaussianNB\n",
    "import numpy"
   ]
  },
  {
   "cell_type": "code",
   "execution_count": 3,
   "metadata": {},
   "outputs": [
    {
     "data": {
      "text/html": [
       "<div>\n",
       "<style scoped>\n",
       "    .dataframe tbody tr th:only-of-type {\n",
       "        vertical-align: middle;\n",
       "    }\n",
       "\n",
       "    .dataframe tbody tr th {\n",
       "        vertical-align: top;\n",
       "    }\n",
       "\n",
       "    .dataframe thead th {\n",
       "        text-align: right;\n",
       "    }\n",
       "</style>\n",
       "<table border=\"1\" class=\"dataframe\">\n",
       "  <thead>\n",
       "    <tr style=\"text-align: right;\">\n",
       "      <th></th>\n",
       "      <th>review</th>\n",
       "      <th>sentiment</th>\n",
       "    </tr>\n",
       "  </thead>\n",
       "  <tbody>\n",
       "    <tr>\n",
       "      <th>0</th>\n",
       "      <td>love paul mccartney greatest time could not ho...</td>\n",
       "      <td>positive</td>\n",
       "    </tr>\n",
       "    <tr>\n",
       "      <th>1</th>\n",
       "      <td>steven seagal back third film releas year cour...</td>\n",
       "      <td>negative</td>\n",
       "    </tr>\n",
       "    <tr>\n",
       "      <th>2</th>\n",
       "      <td>movi start brisk slow moment middl general mov...</td>\n",
       "      <td>positive</td>\n",
       "    </tr>\n",
       "    <tr>\n",
       "      <th>3</th>\n",
       "      <td>alway love old movi one top ten favorit charm ...</td>\n",
       "      <td>positive</td>\n",
       "    </tr>\n",
       "    <tr>\n",
       "      <th>4</th>\n",
       "      <td>guy ritchi nobl effort beat knock rape kick ar...</td>\n",
       "      <td>negative</td>\n",
       "    </tr>\n",
       "    <tr>\n",
       "      <th>5</th>\n",
       "      <td>one big best jack hulbert singl role split two...</td>\n",
       "      <td>positive</td>\n",
       "    </tr>\n",
       "    <tr>\n",
       "      <th>6</th>\n",
       "      <td>pat obrien best role ever notr dame footbal co...</td>\n",
       "      <td>positive</td>\n",
       "    </tr>\n",
       "    <tr>\n",
       "      <th>7</th>\n",
       "      <td>rent film girlfriend away hope see serious mil...</td>\n",
       "      <td>negative</td>\n",
       "    </tr>\n",
       "    <tr>\n",
       "      <th>8</th>\n",
       "      <td>opinion flatley ruin first show ridicul ego di...</td>\n",
       "      <td>positive</td>\n",
       "    </tr>\n",
       "    <tr>\n",
       "      <th>9</th>\n",
       "      <td>wonder one best music ever three busbi berk nu...</td>\n",
       "      <td>positive</td>\n",
       "    </tr>\n",
       "  </tbody>\n",
       "</table>\n",
       "</div>"
      ],
      "text/plain": [
       "                                              review sentiment\n",
       "0  love paul mccartney greatest time could not ho...  positive\n",
       "1  steven seagal back third film releas year cour...  negative\n",
       "2  movi start brisk slow moment middl general mov...  positive\n",
       "3  alway love old movi one top ten favorit charm ...  positive\n",
       "4  guy ritchi nobl effort beat knock rape kick ar...  negative\n",
       "5  one big best jack hulbert singl role split two...  positive\n",
       "6  pat obrien best role ever notr dame footbal co...  positive\n",
       "7  rent film girlfriend away hope see serious mil...  negative\n",
       "8  opinion flatley ruin first show ridicul ego di...  positive\n",
       "9  wonder one best music ever three busbi berk nu...  positive"
      ]
     },
     "execution_count": 3,
     "metadata": {},
     "output_type": "execute_result"
    }
   ],
   "source": [
    "df_training = pandas.read_csv(\"IMDB-Dataset-training.csv\")\n",
    "df_training.head(10)"
   ]
  },
  {
   "cell_type": "code",
   "execution_count": 4,
   "metadata": {},
   "outputs": [],
   "source": [
    "cv = CountVectorizer(analyzer='word', ngram_range=(2, 2))\n",
    "text_fitter = cv.fit(df_training['review'])"
   ]
  },
  {
   "cell_type": "code",
   "execution_count": 5,
   "metadata": {},
   "outputs": [],
   "source": [
    "def get_data(df):\n",
    "    features = text_fitter.transform(df['review']).toarray()\n",
    "    targets = numpy.array(df['sentiment'].apply(lambda x: int(x=='positive')))\n",
    "    return features, targets"
   ]
  },
  {
   "cell_type": "code",
   "execution_count": 6,
   "metadata": {},
   "outputs": [],
   "source": [
    "features, targets = get_data(df_training)\n",
    "classifier = GaussianNB()\n",
    "fit_data = list(zip(numpy.array_split(features, 1000), numpy.array_split(targets, 1000)))\n",
    "i = 0\n",
    "for f,t in fit_data:\n",
    "    # print(i)\n",
    "    i+=1\n",
    "    classifier.partial_fit(f, t, [0,1])"
   ]
  },
  {
   "cell_type": "code",
   "execution_count": null,
   "metadata": {},
   "outputs": [],
   "source": [
    "classifier.score(features, targets)"
   ]
  },
  {
   "cell_type": "code",
   "execution_count": null,
   "metadata": {},
   "outputs": [],
   "source": [
    "df_validation = pandas.read_csv(\"IMDB-Dataset-validation.csv\")\n",
    "df_validation.head(10)"
   ]
  },
  {
   "cell_type": "code",
   "execution_count": null,
   "metadata": {},
   "outputs": [],
   "source": [
    "validation_features, validation_targets = get_data(df_validation)\n",
    "classifier.score(validation_features, validation_targets)"
   ]
  }
 ],
 "metadata": {
  "interpreter": {
   "hash": "42d89d09b6e513e23bf727853989dcbd4248dd80e4876aabc1efc1627826ab68"
  },
  "kernelspec": {
   "display_name": "Python 3 (ipykernel)",
   "language": "python",
   "name": "python3"
  },
  "language_info": {
   "codemirror_mode": {
    "name": "ipython",
    "version": 3
   },
   "file_extension": ".py",
   "mimetype": "text/x-python",
   "name": "python",
   "nbconvert_exporter": "python",
   "pygments_lexer": "ipython3",
   "version": "3.9.10"
  }
 },
 "nbformat": 4,
 "nbformat_minor": 2
}
