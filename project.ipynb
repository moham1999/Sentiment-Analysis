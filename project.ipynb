{
 "cells": [
  {
   "cell_type": "markdown",
   "id": "aab05b99",
   "metadata": {},
   "source": [
    "Import required libraries"
   ]
  },
  {
   "cell_type": "code",
   "execution_count": 1,
   "id": "54e60c50",
   "metadata": {},
   "outputs": [],
   "source": [
    "import pandas as pd\n",
    "import seaborn as sns\n",
    "import regex as re\n",
    "import advertools as adv\n",
    "from bs4 import BeautifulSoup\n",
    "import nltk\n",
    "from nltk.tokenize import word_tokenize,sent_tokenize\n",
    "from nltk.tokenize.toktok import ToktokTokenizer\n",
    "from nltk.stem.snowball import EnglishStemmer\n",
    "from nltk.corpus import stopwords\n",
    "from gensim.parsing.preprocessing import remove_stopwords\n",
    "from matplotlib import pyplot as plt\n",
    "from collections import Counter\n",
    "from sklearn.feature_extraction.text import TfidfVectorizer\n",
    "from sklearn.svm import LinearSVC"
   ]
  },
  {
   "cell_type": "code",
   "execution_count": 2,
   "id": "250c9405",
   "metadata": {
    "scrolled": true
   },
   "outputs": [
    {
     "data": {
      "text/html": [
       "<div>\n",
       "<style scoped>\n",
       "    .dataframe tbody tr th:only-of-type {\n",
       "        vertical-align: middle;\n",
       "    }\n",
       "\n",
       "    .dataframe tbody tr th {\n",
       "        vertical-align: top;\n",
       "    }\n",
       "\n",
       "    .dataframe thead th {\n",
       "        text-align: right;\n",
       "    }\n",
       "</style>\n",
       "<table border=\"1\" class=\"dataframe\">\n",
       "  <thead>\n",
       "    <tr style=\"text-align: right;\">\n",
       "      <th></th>\n",
       "      <th>review</th>\n",
       "      <th>sentiment</th>\n",
       "    </tr>\n",
       "  </thead>\n",
       "  <tbody>\n",
       "    <tr>\n",
       "      <th>0</th>\n",
       "      <td>One of the other reviewers has mentioned that ...</td>\n",
       "      <td>positive</td>\n",
       "    </tr>\n",
       "    <tr>\n",
       "      <th>1</th>\n",
       "      <td>A wonderful little production. &lt;br /&gt;&lt;br /&gt;The...</td>\n",
       "      <td>positive</td>\n",
       "    </tr>\n",
       "    <tr>\n",
       "      <th>2</th>\n",
       "      <td>I thought this was a wonderful way to spend ti...</td>\n",
       "      <td>positive</td>\n",
       "    </tr>\n",
       "    <tr>\n",
       "      <th>3</th>\n",
       "      <td>Basically there's a family where a little boy ...</td>\n",
       "      <td>negative</td>\n",
       "    </tr>\n",
       "    <tr>\n",
       "      <th>4</th>\n",
       "      <td>Petter Mattei's \"Love in the Time of Money\" is...</td>\n",
       "      <td>positive</td>\n",
       "    </tr>\n",
       "    <tr>\n",
       "      <th>5</th>\n",
       "      <td>Probably my all-time favorite movie, a story o...</td>\n",
       "      <td>positive</td>\n",
       "    </tr>\n",
       "    <tr>\n",
       "      <th>6</th>\n",
       "      <td>I sure would like to see a resurrection of a u...</td>\n",
       "      <td>positive</td>\n",
       "    </tr>\n",
       "    <tr>\n",
       "      <th>7</th>\n",
       "      <td>This show was an amazing, fresh &amp; innovative i...</td>\n",
       "      <td>negative</td>\n",
       "    </tr>\n",
       "    <tr>\n",
       "      <th>8</th>\n",
       "      <td>Encouraged by the positive comments about this...</td>\n",
       "      <td>negative</td>\n",
       "    </tr>\n",
       "    <tr>\n",
       "      <th>9</th>\n",
       "      <td>If you like original gut wrenching laughter yo...</td>\n",
       "      <td>positive</td>\n",
       "    </tr>\n",
       "  </tbody>\n",
       "</table>\n",
       "</div>"
      ],
      "text/plain": [
       "                                              review sentiment\n",
       "0  One of the other reviewers has mentioned that ...  positive\n",
       "1  A wonderful little production. <br /><br />The...  positive\n",
       "2  I thought this was a wonderful way to spend ti...  positive\n",
       "3  Basically there's a family where a little boy ...  negative\n",
       "4  Petter Mattei's \"Love in the Time of Money\" is...  positive\n",
       "5  Probably my all-time favorite movie, a story o...  positive\n",
       "6  I sure would like to see a resurrection of a u...  positive\n",
       "7  This show was an amazing, fresh & innovative i...  negative\n",
       "8  Encouraged by the positive comments about this...  negative\n",
       "9  If you like original gut wrenching laughter yo...  positive"
      ]
     },
     "execution_count": 2,
     "metadata": {},
     "output_type": "execute_result"
    }
   ],
   "source": [
    "df = pd.read_csv ('IMDB-Dataset.csv')\n",
    "df.head(10)"
   ]
  },
  {
   "cell_type": "code",
   "execution_count": 3,
   "id": "11564309",
   "metadata": {},
   "outputs": [
    {
     "data": {
      "text/plain": [
       "\"One of the other reviewers has mentioned that after watching just 1 Oz episode you'll be hooked. They are right, as this is exactly what happened with me.<br /><br />The first thing that struck me about Oz was its brutality and unflinching scenes of violence, which set in right from the word GO. Trust me, this is not a show for the faint hearted or timid. This show pulls no punches with regards to drugs, sex or violence. Its is hardcore, in the classic use of the word.<br /><br />It is called OZ as that is the nickname given to the Oswald Maximum Security State Penitentary. It focuses mainly on Emerald City, an experimental section of the prison where all the cells have glass fronts and face inwards, so privacy is not high on the agenda. Em City is home to many..Aryans, Muslims, gangstas, Latinos, Christians, Italians, Irish and more....so scuffles, death stares, dodgy dealings and shady agreements are never far away.<br /><br />I would say the main appeal of the show is due to the fact that it goes where other shows wouldn't dare. Forget pretty pictures painted for mainstream audiences, forget charm, forget romance...OZ doesn't mess around. The first episode I ever saw struck me as so nasty it was surreal, I couldn't say I was ready for it, but as I watched more, I developed a taste for Oz, and got accustomed to the high levels of graphic violence. Not just violence, but injustice (crooked guards who'll be sold out for a nickel, inmates who'll kill on order and get away with it, well mannered, middle class inmates being turned into prison bitches due to their lack of street skills or prison experience) Watching Oz, you may become comfortable with what is uncomfortable viewing....thats if you can get in touch with your darker side.\""
      ]
     },
     "execution_count": 3,
     "metadata": {},
     "output_type": "execute_result"
    }
   ],
   "source": [
    "originalDF = pd.read_csv('IMDB-Dataset.csv')\n",
    "originalDF.review[0]"
   ]
  },
  {
   "cell_type": "markdown",
   "id": "467ca872",
   "metadata": {},
   "source": [
    "Check for null values"
   ]
  },
  {
   "cell_type": "code",
   "execution_count": 4,
   "id": "d45f0a72",
   "metadata": {},
   "outputs": [
    {
     "data": {
      "text/plain": [
       "False"
      ]
     },
     "execution_count": 4,
     "metadata": {},
     "output_type": "execute_result"
    }
   ],
   "source": [
    "df.isnull().values.any()"
   ]
  },
  {
   "cell_type": "markdown",
   "id": "f6770edd",
   "metadata": {},
   "source": [
    "Explore dataframe"
   ]
  },
  {
   "cell_type": "code",
   "execution_count": 5,
   "id": "ec894d05",
   "metadata": {
    "scrolled": false
   },
   "outputs": [
    {
     "data": {
      "text/html": [
       "<div>\n",
       "<style scoped>\n",
       "    .dataframe tbody tr th:only-of-type {\n",
       "        vertical-align: middle;\n",
       "    }\n",
       "\n",
       "    .dataframe tbody tr th {\n",
       "        vertical-align: top;\n",
       "    }\n",
       "\n",
       "    .dataframe thead th {\n",
       "        text-align: right;\n",
       "    }\n",
       "</style>\n",
       "<table border=\"1\" class=\"dataframe\">\n",
       "  <thead>\n",
       "    <tr style=\"text-align: right;\">\n",
       "      <th></th>\n",
       "      <th>review</th>\n",
       "      <th>sentiment</th>\n",
       "    </tr>\n",
       "  </thead>\n",
       "  <tbody>\n",
       "    <tr>\n",
       "      <th>count</th>\n",
       "      <td>50000</td>\n",
       "      <td>50000</td>\n",
       "    </tr>\n",
       "    <tr>\n",
       "      <th>unique</th>\n",
       "      <td>49582</td>\n",
       "      <td>2</td>\n",
       "    </tr>\n",
       "    <tr>\n",
       "      <th>top</th>\n",
       "      <td>Loved today's show!!! It was a variety and not...</td>\n",
       "      <td>positive</td>\n",
       "    </tr>\n",
       "    <tr>\n",
       "      <th>freq</th>\n",
       "      <td>5</td>\n",
       "      <td>25000</td>\n",
       "    </tr>\n",
       "  </tbody>\n",
       "</table>\n",
       "</div>"
      ],
      "text/plain": [
       "                                                   review sentiment\n",
       "count                                               50000     50000\n",
       "unique                                              49582         2\n",
       "top     Loved today's show!!! It was a variety and not...  positive\n",
       "freq                                                    5     25000"
      ]
     },
     "execution_count": 5,
     "metadata": {},
     "output_type": "execute_result"
    }
   ],
   "source": [
    "df.describe()"
   ]
  },
  {
   "cell_type": "code",
   "execution_count": 6,
   "id": "c0069c7e",
   "metadata": {},
   "outputs": [
    {
     "name": "stderr",
     "output_type": "stream",
     "text": [
      "/Users/moham/opt/anaconda3/lib/python3.9/site-packages/seaborn/distributions.py:2619: FutureWarning: `distplot` is a deprecated function and will be removed in a future version. Please adapt your code to use either `displot` (a figure-level function with similar flexibility) or `histplot` (an axes-level function for histograms).\n",
      "  warnings.warn(msg, FutureWarning)\n",
      "/Users/moham/opt/anaconda3/lib/python3.9/site-packages/seaborn/distributions.py:2619: FutureWarning: `distplot` is a deprecated function and will be removed in a future version. Please adapt your code to use either `displot` (a figure-level function with similar flexibility) or `histplot` (an axes-level function for histograms).\n",
      "  warnings.warn(msg, FutureWarning)\n"
     ]
    },
    {
     "data": {
      "image/png": "[encoded data removed]",
      "text/plain": [
       "<Figure size 1080x360 with 2 Axes>"
      ]
     },
     "metadata": {
      "needs_background": "light"
     },
     "output_type": "display_data"
    }
   ],
   "source": [
    "#Analyse the count of words in each segment- both positive and negative reviews\n",
    "#Function for checking word length\n",
    "def cal_len(data):\n",
    "    return len(data)\n",
    "\n",
    "#Create generic plotter with Seaborn\n",
    "def plot_count(count_ones,count_zeros,title_1,title_2,subtitle):\n",
    "    fig,(ax1,ax2)=plt.subplots(1,2,figsize=(15,5))\n",
    "    sns.distplot(count_zeros,ax=ax1,color='Blue')\n",
    "    ax1.set_title(title_1)\n",
    "    sns.distplot(count_ones,ax=ax2,color='Red')\n",
    "    ax2.set_title(title_2)\n",
    "    fig.suptitle(subtitle)\n",
    "    plt.show()    \n",
    "\n",
    "\n",
    "count_good=df[df['sentiment']=='positive']\n",
    "count_bad=df[df['sentiment']=='negative']\n",
    "\n",
    "count_good_words=count_good['review'].str.split().apply(lambda z:cal_len(z))\n",
    "count_bad_words=count_bad['review'].str.split().apply(lambda z:cal_len(z))\n",
    "plot_count(count_good_words,count_bad_words,\"Positive Review\",\"Negative Review\",\"Reviews Word Analysis\")"
   ]
  },
  {
   "cell_type": "code",
   "execution_count": 7,
   "id": "cd4a8c7a",
   "metadata": {
    "scrolled": false
   },
   "outputs": [
    {
     "data": {
      "image/png": "[encoded data removed]",
      "text/plain": [
       "<Figure size 432x288 with 1 Axes>"
      ]
     },
     "metadata": {
      "needs_background": "light"
     },
     "output_type": "display_data"
    }
   ],
   "source": [
    "#Simplified counter function\n",
    "def create_corpus(word):\n",
    "    corpus=[]\n",
    "    \n",
    "    for x in df[df['sentiment']==word]['review'].str.split():\n",
    "        for i in x:\n",
    "            corpus.append(i)\n",
    "    return corpus\n",
    "\n",
    "stops=set(stopwords.words('english'))\n",
    "corpus=create_corpus('positive')\n",
    "counter=Counter(corpus)\n",
    "most=counter.most_common()\n",
    "x=[]\n",
    "y=[]\n",
    "for word,count in most[:100]:\n",
    "    if (word not in stops) :\n",
    "        x.append(word)\n",
    "        y.append(count)\n",
    "sns.barplot(x=y,y=x)\n",
    "plt.rcParams['figure.figsize'] = [15, 15]"
   ]
  },
  {
   "cell_type": "markdown",
   "id": "8ae26f10",
   "metadata": {},
   "source": [
    "It can be deduced from above that there are a considerable number of redundant words and html tags."
   ]
  },
  {
   "cell_type": "markdown",
   "id": "a218e376",
   "metadata": {},
   "source": [
    "Check for emojis using an external library \"advertools\""
   ]
  },
  {
   "cell_type": "code",
   "execution_count": 8,
   "id": "ca316f8f",
   "metadata": {
    "scrolled": true
   },
   "outputs": [
    {
     "name": "stdout",
     "output_type": "stream",
     "text": [
      "Total emojis: 21\n",
      "['☺', '❤', '💕', '😊', '😇', '😉', '😌', '😍', '🥰', '😗', '😙', '😚', '😚', '😋', '😛', '😝', '😜', '🤪', '🤨', '🧐', '😎']\n"
     ]
    }
   ],
   "source": [
    "#Testing emojis\n",
    "testEmojiDict = adv.extract_emoji(\"Hi ☺️ My name is Mo B. I love data science❤️💕😊😇😉😌😍🥰😗😙😚😚😋😛😝😜🤪🤨🧐😎\")\n",
    "\n",
    "count = 0\n",
    "for emoji_count in testEmojiDict['emoji_counts']:\n",
    "    if (emoji_count >= 1):\n",
    "        count +=1\n",
    "print(\"Total emojis:\", count)\n",
    "print(testEmojiDict['emoji_flat'])"
   ]
  },
  {
   "cell_type": "code",
   "execution_count": null,
   "id": "aad0e223",
   "metadata": {},
   "outputs": [],
   "source": [
    "emoji_dict = adv.extract_emoji(df.review)"
   ]
  },
  {
   "cell_type": "code",
   "execution_count": null,
   "id": "7bebce45",
   "metadata": {
    "scrolled": false
   },
   "outputs": [],
   "source": [
    "count = 0\n",
    "\n",
    "for emoji in emoji_dict['emoji_counts']:\n",
    "    if (emoji >= 1):\n",
    "        count +=1\n",
    "print(\"Total emojis:\", count)\n",
    "\n",
    "print(emoji_dict['emoji_flat'])\n",
    "print(emoji_dict['emoji_flat_text'])"
   ]
  },
  {
   "cell_type": "markdown",
   "id": "6e8a1eb5",
   "metadata": {},
   "source": [
    "Seems like they are no emojis in the dataframe. Bear in mind data has not been altered in any way as of yet. Only Registered and copyright symbols are found which would not have any effect on the sentiment analyser whatsoever. Therefore they will be removed"
   ]
  },
  {
   "cell_type": "markdown",
   "id": "ae08ceb1",
   "metadata": {},
   "source": [
    "Considerable number of reviews contained HTML tags, as well as brackets. Therefore they are removed.\n",
    "Special characters are removed as well."
   ]
  },
  {
   "cell_type": "code",
   "execution_count": 9,
   "id": "a00eddcd",
   "metadata": {},
   "outputs": [],
   "source": [
    "#Removes the html strips\n",
    "def remove_html(text):\n",
    "    soup = BeautifulSoup(text, \"html.parser\")\n",
    "    return soup.get_text()\n",
    "\n",
    "#Removes URL\n",
    "def remove_url(data):\n",
    "    url_clean= re.compile(r\"https://\\S+|www\\.\\S+\")\n",
    "    data=url_clean.sub(r'',data)\n",
    "    return data\n",
    "\n",
    "#Removes the square brackets\n",
    "def remove_between_square_brackets(text):\n",
    "    return re.sub('\\[[^]]*\\]', '', text)\n",
    "\n",
    "#Removes special characters\n",
    "def remove_special_characters(text, remove_digits=True):\n",
    "    pattern=r'[^a-zA-z0-9\\s]'\n",
    "    text=re.sub(pattern,'',text)\n",
    "    return text\n",
    "\n",
    "#Removing the noisy text\n",
    "def clean_text(text):\n",
    "    text = remove_html(text)\n",
    "    text = remove_url(text)\n",
    "    text = remove_between_square_brackets(text)\n",
    "    text = remove_special_characters(text)\n",
    "    return text\n",
    "\n",
    "#Apply function on review column\n",
    "df['review'] = df['review'].apply(clean_text)"
   ]
  },
  {
   "cell_type": "markdown",
   "id": "bfa58ab3",
   "metadata": {},
   "source": [
    "Tokenise and normalise words"
   ]
  },
  {
   "cell_type": "code",
   "execution_count": 10,
   "id": "01b55949",
   "metadata": {},
   "outputs": [
    {
     "name": "stderr",
     "output_type": "stream",
     "text": [
      "[nltk_data] Downloading package punkt to /Users/moham/nltk_data...\n",
      "[nltk_data]   Package punkt is already up-to-date!\n"
     ]
    }
   ],
   "source": [
    "#Complete stopword implementation and also include movie/season domain related stopwords such as film, movie, actress etc.\n",
    "#Deal with abbreviation\n",
    "\n",
    "nltk.download('punkt')\n",
    "stemmer = EnglishStemmer()\n",
    "\n",
    "def stem_words(tokenizedList):\n",
    "    stemmedList = []\n",
    "    for word in tokenizedList:\n",
    "        stemmedList.append(stemmer.stem(word))\n",
    "    return stemmedList\n",
    "\n",
    "\n",
    "def remove_stopwords(text, is_lower_case=False):\n",
    "    tokenizer=ToktokTokenizer()\n",
    "    stopword_list=nltk.corpus.stopwords.words('english')\n",
    "    tokens = tokenizer.tokenize(text)\n",
    "    tokens = [token.strip() for token in tokens]\n",
    "    if is_lower_case:\n",
    "        filtered_tokens = [token for token in tokens if token not in stopword_list]\n",
    "    else:\n",
    "        filtered_tokens = [token for token in tokens if token.lower() not in stopword_list]\n",
    "    filtered_text = ' '.join(filtered_tokens)    \n",
    "    return filtered_text\n",
    "\n",
    "def smarter_tokenize_and_preprocess(text):\n",
    "    filteredReview = remove_stopwords(text)\n",
    "    tokenizedWords = nltk.word_tokenize(filteredReview)\n",
    "    return stem_words(tokenizedWords)\n",
    "\n",
    "df['review'] = df['review'].apply(smarter_tokenize_and_preprocess)"
   ]
  },
  {
   "cell_type": "code",
   "execution_count": 11,
   "id": "63a6c0a4",
   "metadata": {
    "scrolled": false
   },
   "outputs": [
    {
     "data": {
      "image/png": "[encoded data removed]",
      "text/plain": [
       "<Figure size 1080x1080 with 1 Axes>"
      ]
     },
     "metadata": {
      "needs_background": "light"
     },
     "output_type": "display_data"
    }
   ],
   "source": [
    "#Simplified counter function\n",
    "def create_corpus(word):\n",
    "    corpus=[]\n",
    "    \n",
    "    for x in df[df['sentiment']==word]['review']:\n",
    "        for i in x:\n",
    "            corpus.append(i)\n",
    "    return corpus\n",
    "\n",
    "stops=set(stopwords.words('english'))\n",
    "corpus=create_corpus('positive')\n",
    "counter=Counter(corpus)\n",
    "most=counter.most_common()\n",
    "x=[]\n",
    "y=[]\n",
    "for word,count in most[:100]:\n",
    "    if (word not in stops) :\n",
    "        x.append(word)\n",
    "        y.append(count)\n",
    "sns.barplot(x=y,y=x)\n",
    "plt.rcParams['figure.figsize'] = [15, 25]"
   ]
  },
  {
   "cell_type": "markdown",
   "id": "69f9bb09",
   "metadata": {},
   "source": [
    "It can be inferred that movie/season realted words are present in considerable words. Remove if needed"
   ]
  },
  {
   "cell_type": "markdown",
   "id": "7c3dac1b",
   "metadata": {},
   "source": [
    "Possibly use tf-idf, can be used with logistic regression. More on that later when we pick a model"
   ]
  },
  {
   "cell_type": "code",
   "execution_count": 12,
   "id": "a9c47926",
   "metadata": {},
   "outputs": [
    {
     "name": "stdout",
     "output_type": "stream",
     "text": [
      "(40000, 2)\n",
      "(10000, 2)\n"
     ]
    }
   ],
   "source": [
    "#split the dataset  \n",
    "#train dataset\n",
    "train_set=df[:40000]\n",
    "#test dataset\n",
    "test_set=df[40000:]\n",
    "# test_sentiments=df.sentiment[40000:]\n",
    "print(train_set.shape)\n",
    "print(test_set.shape)"
   ]
  },
  {
   "cell_type": "code",
   "execution_count": 13,
   "id": "4e82853d",
   "metadata": {},
   "outputs": [
    {
     "name": "stdout",
     "output_type": "stream",
     "text": [
      "CPU times: user 3.34 s, sys: 186 ms, total: 3.53 s\n",
      "Wall time: 3.74 s\n"
     ]
    }
   ],
   "source": [
    "%%time\n",
    "\n",
    "def identity_tokenizer(text):\n",
    "    return text\n",
    "\n",
    "tfidf_vect=TfidfVectorizer(tokenizer=identity_tokenizer, lowercase=False, use_idf=True)    \n",
    "train_tfidf=tfidf_vect.fit_transform(train_set['review'].values.tolist())\n",
    "test_tfidf=tfidf_vect.transform(test_set['review'].values.tolist())\n",
    "\n",
    "# # print idf values \n",
    "# df_idf = pd.DataFrame(train_tfidf.idf_, index=cv.get_feature_names(),columns=[\"idf_weights\"]) \n",
    "# # sort ascending \n",
    "# df_idf.sort_values(by=['idf_weights'])\n",
    "\n",
    "# train_tfidf.shape"
   ]
  },
  {
   "cell_type": "code",
   "execution_count": 14,
   "id": "f26866d4",
   "metadata": {},
   "outputs": [
    {
     "name": "stdout",
     "output_type": "stream",
     "text": [
      "  (0, 124067)\t0.048579677212412395\n",
      "  (0, 34718)\t0.07815670542819243\n",
      "  (0, 140273)\t0.04926299746766431\n",
      "  (0, 146978)\t0.13042151521831186\n",
      "  (0, 143467)\t0.07398155888289235\n",
      "  (0, 29558)\t0.06753439426633133\n",
      "  (0, 15550)\t0.03957890659775265\n",
      "  (0, 85383)\t0.03888334709723334\n",
      "  (0, 47390)\t0.047337310462477813\n",
      "  (0, 125145)\t0.0599656050867133\n",
      "  (0, 130939)\t0.05477318861643465\n",
      "  (0, 76955)\t0.045044762505336663\n",
      "  (0, 17730)\t0.08248811178530012\n",
      "  (0, 142130)\t0.036955015229245096\n",
      "  (0, 27839)\t0.0547946440877073\n",
      "  (0, 87535)\t0.05446633301042307\n",
      "  (0, 83965)\t0.0591967350291995\n",
      "  (0, 149748)\t0.027404815134082088\n",
      "  (0, 12953)\t0.040339850575008766\n",
      "  (0, 56703)\t0.04874436667476364\n",
      "  (0, 99367)\t0.050263888437875874\n",
      "  (0, 75377)\t0.03965740182460602\n",
      "  (0, 69702)\t0.17171384758077157\n",
      "  (0, 94494)\t0.11117034912077345\n",
      "  (0, 126678)\t0.0730570405473652\n",
      "  :\t:\n",
      "  (39999, 30027)\t0.053345915442911805\n",
      "  (39999, 111784)\t0.05625266120452673\n",
      "  (39999, 113936)\t0.060523335279894744\n",
      "  (39999, 134105)\t0.0693326569852458\n",
      "  (39999, 81190)\t0.0375527809765301\n",
      "  (39999, 76103)\t0.0406003666443375\n",
      "  (39999, 9492)\t0.04845088351215496\n",
      "  (39999, 81664)\t0.03994397616908084\n",
      "  (39999, 79814)\t0.08338451949636562\n",
      "  (39999, 25548)\t0.06905317899063415\n",
      "  (39999, 138507)\t0.06280083149300454\n",
      "  (39999, 149129)\t0.07798528190417778\n",
      "  (39999, 137798)\t0.050184748654657926\n",
      "  (39999, 39993)\t0.05333790242079771\n",
      "  (39999, 45194)\t0.12005116991299045\n",
      "  (39999, 50504)\t0.024933105586721255\n",
      "  (39999, 80456)\t0.04336171899200092\n",
      "  (39999, 130939)\t0.07421130577365961\n",
      "  (39999, 153206)\t0.03471209524070381\n",
      "  (39999, 48975)\t0.054071234726738235\n",
      "  (39999, 94136)\t0.04241592340720606\n",
      "  (39999, 123564)\t0.04134933221488413\n",
      "  (39999, 118633)\t0.07644875677223739\n",
      "  (39999, 148763)\t0.03282259516088582\n",
      "  (39999, 98405)\t0.025528406348417215\n"
     ]
    }
   ],
   "source": [
    "print(train_tfidf)"
   ]
  },
  {
   "cell_type": "markdown",
   "id": "7a4e7d73",
   "metadata": {},
   "source": [
    "Convert data to binary"
   ]
  },
  {
   "cell_type": "code",
   "execution_count": 15,
   "id": "e09c9230",
   "metadata": {},
   "outputs": [
    {
     "name": "stderr",
     "output_type": "stream",
     "text": [
      "/var/folders/8l/1gzp85r503b4q18n5sp6x6xh0000gn/T/ipykernel_2034/2263353046.py:22: SettingWithCopyWarning: \n",
      "A value is trying to be set on a copy of a slice from a DataFrame.\n",
      "Try using .loc[row_indexer,col_indexer] = value instead\n",
      "\n",
      "See the caveats in the documentation: https://pandas.pydata.org/pandas-docs/stable/user_guide/indexing.html#returning-a-view-versus-a-copy\n",
      "  train_set['Binary']=train_li\n",
      "/var/folders/8l/1gzp85r503b4q18n5sp6x6xh0000gn/T/ipykernel_2034/2263353046.py:23: SettingWithCopyWarning: \n",
      "A value is trying to be set on a copy of a slice from a DataFrame.\n",
      "Try using .loc[row_indexer,col_indexer] = value instead\n",
      "\n",
      "See the caveats in the documentation: https://pandas.pydata.org/pandas-docs/stable/user_guide/indexing.html#returning-a-view-versus-a-copy\n",
      "  test_set['Binary']=test_li\n"
     ]
    }
   ],
   "source": [
    "train_li=[]\n",
    "for i in range(len(train_set)):\n",
    "    if (train_set['sentiment'][i]=='positive'):\n",
    "        train_li.append(1)\n",
    "    else:\n",
    "        train_li.append(0)\n",
    "        \n",
    "# test_li=[]\n",
    "# for j in range(40000, len(test_set)):\n",
    "#     if (test_set['sentiment'][j]=='positive'):\n",
    "#         test_li.append(1)\n",
    "#     else:\n",
    "#         test_li.append(0)\n",
    "        \n",
    "test_li=[]\n",
    "for sentiment in test_set.sentiment:\n",
    "    if (sentiment == 'positive'):\n",
    "        test_li.append(1)\n",
    "    else:\n",
    "        test_li.append(0)\n",
    "        \n",
    "train_set['Binary']=train_li\n",
    "test_set['Binary']=test_li"
   ]
  },
  {
   "cell_type": "code",
   "execution_count": 16,
   "id": "4178adb6",
   "metadata": {},
   "outputs": [
    {
     "name": "stdout",
     "output_type": "stream",
     "text": [
      "Training time: 1308.944148s; Prediction time: 140.673043s\n",
      "positive:  {'precision': 0.8920094936708861, 'recall': 0.9007389654483723, 'f1-score': 0.8963529762496274, 'support': 5007}\n",
      "negative:  {'precision': 0.8994741100323624, 'recall': 0.8906469056679351, 'f1-score': 0.8950387440877527, 'support': 4993}\n"
     ]
    }
   ],
   "source": [
    "import time\n",
    "from sklearn import svm\n",
    "from sklearn.metrics import classification_report\n",
    "# Perform classification with SVM, kernel=linear\n",
    "classifier_linear = svm.SVC(kernel='linear')\n",
    "t0 = time.time()\n",
    "classifier_linear.fit(train_tfidf, train_set['Binary'])\n",
    "t1 = time.time()\n",
    "prediction_linear = classifier_linear.predict(test_tfidf)\n",
    "t2 = time.time()\n",
    "time_linear_train = t1-t0\n",
    "time_linear_predict = t2-t1\n",
    "# results\n",
    "print(\"Training time: %fs; Prediction time: %fs\" % (time_linear_train, time_linear_predict))\n",
    "report = classification_report(test_set['Binary'], prediction_linear, output_dict=True)\n",
    "print('positive: ', report['1'])\n",
    "print('negative: ', report['0'])"
   ]
  },
  {
   "cell_type": "code",
   "execution_count": null,
   "id": "5816fdcc",
   "metadata": {},
   "outputs": [],
   "source": []
  },
  {
   "cell_type": "code",
   "execution_count": null,
   "id": "3ed05699",
   "metadata": {},
   "outputs": [],
   "source": [
    "for c in [0.01, 0.02, 0.05, 0.25, 0.5, 0.75, 1]:\n",
    "    svc = LinearSVC(C=c, max_iter=5000)\n",
    "    print (f'At C = {c}:-', end=' ')\n",
    "    fit_and_test(svc, X_train_onehot, y_train, X_test_onehot, y_test, True)"
   ]
  }
 ],
 "metadata": {
  "kernelspec": {
   "display_name": "Python 3 (ipykernel)",
   "language": "python",
   "name": "python3"
  },
  "language_info": {
   "codemirror_mode": {
    "name": "ipython",
    "version": 3
   },
   "file_extension": ".py",
   "mimetype": "text/x-python",
   "name": "python",
   "nbconvert_exporter": "python",
   "pygments_lexer": "ipython3",
   "version": "3.9.7"
  }
 },
 "nbformat": 4,
 "nbformat_minor": 5
}
