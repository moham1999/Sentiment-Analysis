{
 "cells": [
  {
   "cell_type": "markdown",
   "id": "52304007-4ce8-4c6b-a3a0-cb2be553c9fc",
   "metadata": {},
   "source": [
    "# Import"
   ]
  },
  {
   "cell_type": "code",
   "execution_count": 1,
   "id": "59d9cbff-61f8-4d64-bb07-3d86b1c677d8",
   "metadata": {},
   "outputs": [
    {
     "name": "stdout",
     "output_type": "stream",
     "text": [
      "Requirement already satisfied: textblob in c:\\users\\gebruiker\\anaconda3\\lib\\site-packages (0.17.1)\n",
      "Requirement already satisfied: nltk>=3.1 in c:\\users\\gebruiker\\anaconda3\\lib\\site-packages (from textblob) (3.6.5)\n",
      "Requirement already satisfied: click in c:\\users\\gebruiker\\anaconda3\\lib\\site-packages (from nltk>=3.1->textblob) (8.0.3)\n",
      "Requirement already satisfied: joblib in c:\\users\\gebruiker\\anaconda3\\lib\\site-packages (from nltk>=3.1->textblob) (1.1.0)\n",
      "Requirement already satisfied: regex>=2021.8.3 in c:\\users\\gebruiker\\anaconda3\\lib\\site-packages (from nltk>=3.1->textblob) (2021.8.3)\n",
      "Requirement already satisfied: tqdm in c:\\users\\gebruiker\\anaconda3\\lib\\site-packages (from nltk>=3.1->textblob) (4.62.3)\n",
      "Requirement already satisfied: colorama in c:\\users\\gebruiker\\anaconda3\\lib\\site-packages (from click->nltk>=3.1->textblob) (0.4.4)\n"
     ]
    }
   ],
   "source": [
    "!pip3 install textblob"
   ]
  },
  {
   "cell_type": "code",
   "execution_count": 2,
   "id": "77c0b8fa-705b-4dbb-a0e4-72f2b8788635",
   "metadata": {},
   "outputs": [],
   "source": [
    "import re\n",
    "import os\n",
    "import numpy as np\n",
    "import pandas as pd\n",
    "from string import punctuation\n",
    "import matplotlib.pyplot as plt\n",
    "from sklearn.pipeline import Pipeline\n",
    "from sklearn.linear_model import LogisticRegression\n",
    "from sklearn.feature_extraction.text import CountVectorizer\n",
    "from sklearn.model_selection import train_test_split\n",
    "import nltk\n",
    "from nltk.corpus import stopwords\n",
    "from nltk import word_tokenize\n",
    "from bs4 import BeautifulSoup\n",
    "from nltk.stem.snowball import EnglishStemmer"
   ]
  },
  {
   "cell_type": "code",
   "execution_count": null,
   "id": "a1f38353-a4be-47ba-9d93-c50ef1f47cf9",
   "metadata": {},
   "outputs": [],
   "source": [
    "nltk.download('punkt')\n",
    "nltk.download('stopwords')\n",
    "nltk.download('wordnet')"
   ]
  },
  {
   "cell_type": "code",
   "execution_count": null,
   "id": "f3bb94cc-d204-4f0e-874c-69155600c48c",
   "metadata": {},
   "outputs": [],
   "source": [
    "from textblob import Word"
   ]
  },
  {
   "cell_type": "code",
   "execution_count": null,
   "id": "ef16fbb2-0d4a-4b50-b632-6bad76a09872",
   "metadata": {},
   "outputs": [],
   "source": [
    "df = pd.read_csv ('IMDB-Dataset.csv')"
   ]
  },
  {
   "cell_type": "code",
   "execution_count": null,
   "id": "0ed4b4a8-832d-47d5-bec4-0d14057eacde",
   "metadata": {},
   "outputs": [],
   "source": [
    "df.head(10)"
   ]
  },
  {
   "cell_type": "markdown",
   "id": "d3a87d98-26e6-4fc2-8d65-29189b126cb2",
   "metadata": {},
   "source": [
    "# Set Clean-up"
   ]
  },
  {
   "cell_type": "code",
   "execution_count": null,
   "id": "c56f11eb-8048-46d0-a175-501151243047",
   "metadata": {},
   "outputs": [],
   "source": [
    "def remove_html(text):\n",
    "    soup = BeautifulSoup(text, \"html.parser\")\n",
    "    return soup.get_text()\n",
    "\n",
    "#Removing the square brackets\n",
    "def remove_between_square_brackets(text):\n",
    "    return re.sub('\\[[^]]*\\]', '', text)\n",
    "\n",
    "def remove_special_characters(text, remove_digits=True):\n",
    "    pattern=r'[^a-zA-z0-9\\s]'\n",
    "    text=re.sub(pattern,'',text)\n",
    "    return text\n",
    "\n",
    "#Removing the noisy text\n",
    "def clean_text(text):\n",
    "    text = remove_html(text)\n",
    "    text = remove_between_square_brackets(text)\n",
    "    text = remove_special_characters(text)\n",
    "    return text\n",
    "\n",
    "def transformations(df):\n",
    "    #Punctuation removal\n",
    "    df['review'] = df['review'].apply(lambda words: [x for x in words if not x in punctuation])\n",
    "    #Number removal\n",
    "    df['review'] = df['review'].apply(lambda words: [x for x in words if not x.isdigit()])\n",
    "    #Stopword removal\n",
    "    df['review'] = df['review'].apply(lambda words: [x for x in words if x not in stopwords.words('english')])\n",
    "    #Frequent word removal\n",
    "    temp = df['review'].apply(lambda words: \" \".join(words))\n",
    "    freq = pd.Series(temp).value_counts()[:10]\n",
    "    df['review'] = df['review'].apply(lambda words: [x for x in words if x not in freq.keys()])\n",
    "    #Lemmatization\n",
    "    df['review'] = df['review'].apply(lambda words: \" \".join([Word(x).lemmatize() for x in words]))\n",
    "    return df\n",
    "\n",
    "#Apply function on review column\n",
    "df['review'] = df['review'].apply(clean_text)\n",
    "\n"
   ]
  },
  {
   "cell_type": "code",
   "execution_count": null,
   "id": "25a0b6f4-fca0-4496-8ed9-1f2ab99847e0",
   "metadata": {},
   "outputs": [],
   "source": [
    "stemmer = EnglishStemmer()\n",
    "\n",
    "def stem_words(tokenizedList):\n",
    "    stemmedList = []\n",
    "    for word in tokenizedList:\n",
    "        stemmedList.append(stemmer.stem(word))\n",
    "    return stemmedList\n",
    "\n",
    "def smarter_tokenize_and_preprocess(text):\n",
    "    tokenizedWords = nltk.word_tokenize(text)\n",
    "    return stem_words(tokenizedWords)\n",
    "df['review'] = df['review'].apply(smarter_tokenize_and_preprocess)"
   ]
  },
  {
   "cell_type": "code",
   "execution_count": null,
   "id": "c3b5964c-e3e8-4a18-a45e-5a28ca67cf63",
   "metadata": {},
   "outputs": [],
   "source": [
    "df.dropna()"
   ]
  },
  {
   "cell_type": "markdown",
   "id": "89c70c66-c936-405f-a9ba-7acf869a6e56",
   "metadata": {},
   "source": [
    "# Split set"
   ]
  },
  {
   "cell_type": "code",
   "execution_count": null,
   "id": "51a73b2f-66e9-4168-b332-71c5cf81615f",
   "metadata": {},
   "outputs": [],
   "source": [
    "df.head(10)"
   ]
  },
  {
   "cell_type": "code",
   "execution_count": null,
   "id": "5de511c6-00fd-4e80-9168-4c70017ecd93",
   "metadata": {},
   "outputs": [],
   "source": [
    "#positive = df[df['sentiment'] == 'positive']"
   ]
  },
  {
   "cell_type": "code",
   "execution_count": null,
   "id": "cdbece2c-f04e-41cb-9e6d-0d683647b40a",
   "metadata": {},
   "outputs": [],
   "source": [
    "#negative = df[df['sentiment'] == 'negative']"
   ]
  },
  {
   "cell_type": "code",
   "execution_count": null,
   "id": "f788e872-efc4-4704-a39f-b9f8abea9eb4",
   "metadata": {
    "tags": []
   },
   "outputs": [],
   "source": [
    " train, valid, test = \\\n",
    "              np.split(df.sample(frac=1, random_state=42), \n",
    "                       [int(.6*len(df)), int(.8*len(df))])"
   ]
  },
  {
   "cell_type": "raw",
   "id": "232ca605-0c5a-4991-b7e1-3fc96f5347d6",
   "metadata": {},
   "source": [
    "X_train = train.text\n",
    "Y_train = train.label\n",
    "\n",
    "X_valid = valid.text\n",
    "Y_valid = valid.label\n",
    "\n",
    "X_test = test.text\n",
    "Y_test = test.label"
   ]
  },
  {
   "cell_type": "code",
   "execution_count": null,
   "id": "08db0f35-6272-4c30-8de7-1acd9c252889",
   "metadata": {},
   "outputs": [],
   "source": [
    "#Creating a Pipeline\n",
    "clf = Pipeline(steps =[\n",
    "('preprocessing', CountVectorizer()),\n",
    "('classifier', LogisticRegression(dual=False,max_iter=2000))\n",
    "])\n",
    "#Fitting the model\n",
    "clf.fit(X_train, y_train)"
   ]
  },
  {
   "cell_type": "code",
   "execution_count": null,
   "id": "d66eee1c-1bf3-4abf-b80d-757a1d7f0ac8",
   "metadata": {},
   "outputs": [],
   "source": [
    "clf.score(X_valid, Y_valid)\n",
    "clf.score(X_test,Y_test)"
   ]
  },
  {
   "cell_type": "code",
   "execution_count": null,
   "id": "e81c0157-69e1-4822-8946-b85117503e5b",
   "metadata": {},
   "outputs": [],
   "source": [
    "p = clf.predict(X_test) "
   ]
  },
  {
   "cell_type": "code",
   "execution_count": null,
   "id": "157c652d-7700-425f-981d-c3157c7a3de6",
   "metadata": {},
   "outputs": [],
   "source": [
    "print(f'Number of reviews classified as Poitive: {list(p).count(1)}')\n",
    "print(f'Number of reviews classified as Negative: {list(p).count(0)}')"
   ]
  }
 ],
 "metadata": {
  "kernelspec": {
   "display_name": "Python 3 (ipykernel)",
   "language": "python",
   "name": "python3"
  },
  "language_info": {
   "codemirror_mode": {
    "name": "ipython",
    "version": 3
   },
   "file_extension": ".py",
   "mimetype": "text/x-python",
   "name": "python",
   "nbconvert_exporter": "python",
   "pygments_lexer": "ipython3",
   "version": "3.9.7"
  }
 },
 "nbformat": 4,
 "nbformat_minor": 5
}
